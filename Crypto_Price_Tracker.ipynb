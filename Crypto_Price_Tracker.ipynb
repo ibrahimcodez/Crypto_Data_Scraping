{
 "cells": [
  {
   "cell_type": "code",
   "execution_count": 1,
   "id": "07aec5d7-36b8-45a5-95cf-62174bc25a86",
   "metadata": {
    "tags": []
   },
   "outputs": [
    {
     "data": {
      "text/html": [
       "\n",
       "        <iframe\n",
       "            width=\"100%\"\n",
       "            height=\"650\"\n",
       "            src=\"http://127.0.0.1:8050/\"\n",
       "            frameborder=\"0\"\n",
       "            allowfullscreen\n",
       "            \n",
       "        ></iframe>\n",
       "        "
      ],
      "text/plain": [
       "<IPython.lib.display.IFrame at 0x10a3e24d0>"
      ]
     },
     "metadata": {},
     "output_type": "display_data"
    }
   ],
   "source": [
    "from dash import Dash, dcc, html, Input, Output\n",
    "import plotly.graph_objects as go\n",
    "from plotly.subplots import make_subplots\n",
    "import pandas as pd\n",
    "import requests  # You'll need this to make API calls for live data\n",
    "\n",
    "# Function to fetch live crypto data\n",
    "def fetch_crypto_data(coin_ids):\n",
    "    data = []\n",
    "    for coin in coin_ids:\n",
    "        response = requests.get(f\"https://api.coingecko.com/api/v3/coins/{coin}\")\n",
    "        coin_data = response.json()\n",
    "        data.append({\n",
    "            'name': coin_data['name'],\n",
    "            'current_price': coin_data['market_data']['current_price']['usd'],\n",
    "            'market_cap': coin_data['market_data']['market_cap']['usd'],\n",
    "            'total_volume': coin_data['market_data']['total_volume']['usd'],\n",
    "            'high_24h': coin_data['market_data']['high_24h']['usd']\n",
    "        })\n",
    "    return pd.DataFrame(data)\n",
    "\n",
    "# Initialize the Dash app\n",
    "app = Dash(__name__)\n",
    "\n",
    "app.layout = html.Div([\n",
    "    dcc.Interval(\n",
    "        id='interval-update',\n",
    "        interval=1*60*1000,  # Update every 5 minutes\n",
    "        n_intervals=0\n",
    "    ),\n",
    "    dcc.Graph(id='live-graph')\n",
    "])\n",
    "\n",
    "@app.callback(\n",
    "    Output('live-graph', 'figure'),\n",
    "    Input('interval-update', 'n_intervals')\n",
    ")\n",
    "def update_graph(n):\n",
    "    coin_ids = [\"basic-attention-token\", \"cardano\", \"stellar\", \"vechain\"]\n",
    "    df = fetch_crypto_data(coin_ids)\n",
    "\n",
    "    fig = make_subplots(rows=2, cols=2, specs=[[{'type': 'xy'}, {'type': 'xy'}], [{'type': 'pie'}, {'type': 'xy'}]],\n",
    "                        subplot_titles=(\"Current Price in USD\", \"Market Cap\", \"Trading Volume\", \"24h High\"))\n",
    "\n",
    "    fig.add_trace(go.Bar(x=df['name'], y=df['current_price'], name='Current Price'), row=1, col=1)\n",
    "    fig.add_trace(go.Scatter(x=df['name'], y=df['market_cap'], mode='lines+markers', name='Market Cap'), row=1, col=2)\n",
    "    fig.add_trace(go.Pie(labels=df['name'], values=df['total_volume'], name='Trading Volume'), row=2, col=1)\n",
    "    fig.add_trace(go.Scatter(x=df['name'], y=df['high_24h'], fill='tozeroy', name='24h High'), row=2, col=2)\n",
    "\n",
    "    fig.update_layout(title='Crypto Dashboard')\n",
    "\n",
    "    return fig\n",
    "\n",
    "if __name__ == '__main__':\n",
    "    app.run_server(debug=True)\n"
   ]
  }
 ],
 "metadata": {
  "kernelspec": {
   "display_name": "Python 3 (ipykernel)",
   "language": "python",
   "name": "python3"
  },
  "language_info": {
   "codemirror_mode": {
    "name": "ipython",
    "version": 3
   },
   "file_extension": ".py",
   "mimetype": "text/x-python",
   "name": "python",
   "nbconvert_exporter": "python",
   "pygments_lexer": "ipython3",
   "version": "3.11.4"
  }
 },
 "nbformat": 4,
 "nbformat_minor": 5
}
